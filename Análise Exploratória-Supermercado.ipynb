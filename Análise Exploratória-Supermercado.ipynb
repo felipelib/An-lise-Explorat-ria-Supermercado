{
 "cells": [
  {
   "cell_type": "markdown",
   "id": "6b73e041",
   "metadata": {},
   "source": [
    "Perguntas de negócios a serem respondidas:\n",
    "\n",
    "-Quais são os produtos mais comprados por mulheres e por homens?\n",
    "\n",
    "-Quais são os produtos mais vendidos?\n",
    "\n",
    "-Qual é o perfil dos clientes mais frequentes?\n",
    "\n",
    "-Qual é o desempenho de vendas por filial e cidade?\n",
    "\n",
    "-Qual é o horário de pico das vendas?\n",
    "\n",
    "-Como as vendas variam ao longo do tempo?\n",
    "\n",
    "-Quais métodos de pagamento são mais populares?\n",
    "\n",
    "-Como o tipo de cliente afeta a receita média por venda?"
   ]
  },
  {
   "cell_type": "code",
   "execution_count": 1,
   "id": "27a8b4fc",
   "metadata": {},
   "outputs": [],
   "source": [
    "#Imports\n",
    "\n",
    "import pandas as pd\n",
    "import numpy as np\n",
    "import matplotlib.pyplot as plt"
   ]
  },
  {
   "cell_type": "code",
   "execution_count": 2,
   "id": "b5fc2db5",
   "metadata": {},
   "outputs": [],
   "source": [
    "#Carregando arquivo\n",
    "df = pd.read_csv('supermarket_sales.csv')"
   ]
  },
  {
   "cell_type": "markdown",
   "id": "8fa9bea4",
   "metadata": {},
   "source": [
    "# Informações Básicas dos Dados/Limpeza dos Dados"
   ]
  },
  {
   "cell_type": "code",
   "execution_count": 3,
   "id": "f37d0936",
   "metadata": {},
   "outputs": [
    {
     "data": {
      "text/plain": [
       "(1000, 17)"
      ]
     },
     "execution_count": 3,
     "metadata": {},
     "output_type": "execute_result"
    }
   ],
   "source": [
    "df.shape"
   ]
  },
  {
   "cell_type": "code",
   "execution_count": 4,
   "id": "e73b28fe",
   "metadata": {},
   "outputs": [
    {
     "data": {
      "text/html": [
       "<div>\n",
       "<style scoped>\n",
       "    .dataframe tbody tr th:only-of-type {\n",
       "        vertical-align: middle;\n",
       "    }\n",
       "\n",
       "    .dataframe tbody tr th {\n",
       "        vertical-align: top;\n",
       "    }\n",
       "\n",
       "    .dataframe thead th {\n",
       "        text-align: right;\n",
       "    }\n",
       "</style>\n",
       "<table border=\"1\" class=\"dataframe\">\n",
       "  <thead>\n",
       "    <tr style=\"text-align: right;\">\n",
       "      <th></th>\n",
       "      <th>Invoice ID</th>\n",
       "      <th>Branch</th>\n",
       "      <th>City</th>\n",
       "      <th>Customer type</th>\n",
       "      <th>Gender</th>\n",
       "      <th>Product line</th>\n",
       "      <th>Unit price</th>\n",
       "      <th>Quantity</th>\n",
       "      <th>Tax 5%</th>\n",
       "      <th>Total</th>\n",
       "      <th>Date</th>\n",
       "      <th>Time</th>\n",
       "      <th>Payment</th>\n",
       "      <th>cogs</th>\n",
       "      <th>gross margin percentage</th>\n",
       "      <th>gross income</th>\n",
       "      <th>Rating</th>\n",
       "    </tr>\n",
       "  </thead>\n",
       "  <tbody>\n",
       "    <tr>\n",
       "      <th>0</th>\n",
       "      <td>750-67-8428</td>\n",
       "      <td>A</td>\n",
       "      <td>Yangon</td>\n",
       "      <td>Member</td>\n",
       "      <td>Female</td>\n",
       "      <td>Health and beauty</td>\n",
       "      <td>74.69</td>\n",
       "      <td>7</td>\n",
       "      <td>26.1415</td>\n",
       "      <td>548.9715</td>\n",
       "      <td>1/5/2019</td>\n",
       "      <td>13:08</td>\n",
       "      <td>Ewallet</td>\n",
       "      <td>522.83</td>\n",
       "      <td>4.761905</td>\n",
       "      <td>26.1415</td>\n",
       "      <td>9.1</td>\n",
       "    </tr>\n",
       "    <tr>\n",
       "      <th>1</th>\n",
       "      <td>226-31-3081</td>\n",
       "      <td>C</td>\n",
       "      <td>Naypyitaw</td>\n",
       "      <td>Normal</td>\n",
       "      <td>Female</td>\n",
       "      <td>Electronic accessories</td>\n",
       "      <td>15.28</td>\n",
       "      <td>5</td>\n",
       "      <td>3.8200</td>\n",
       "      <td>80.2200</td>\n",
       "      <td>3/8/2019</td>\n",
       "      <td>10:29</td>\n",
       "      <td>Cash</td>\n",
       "      <td>76.40</td>\n",
       "      <td>4.761905</td>\n",
       "      <td>3.8200</td>\n",
       "      <td>9.6</td>\n",
       "    </tr>\n",
       "    <tr>\n",
       "      <th>2</th>\n",
       "      <td>631-41-3108</td>\n",
       "      <td>A</td>\n",
       "      <td>Yangon</td>\n",
       "      <td>Normal</td>\n",
       "      <td>Male</td>\n",
       "      <td>Home and lifestyle</td>\n",
       "      <td>46.33</td>\n",
       "      <td>7</td>\n",
       "      <td>16.2155</td>\n",
       "      <td>340.5255</td>\n",
       "      <td>3/3/2019</td>\n",
       "      <td>13:23</td>\n",
       "      <td>Credit card</td>\n",
       "      <td>324.31</td>\n",
       "      <td>4.761905</td>\n",
       "      <td>16.2155</td>\n",
       "      <td>7.4</td>\n",
       "    </tr>\n",
       "    <tr>\n",
       "      <th>3</th>\n",
       "      <td>123-19-1176</td>\n",
       "      <td>A</td>\n",
       "      <td>Yangon</td>\n",
       "      <td>Member</td>\n",
       "      <td>Male</td>\n",
       "      <td>Health and beauty</td>\n",
       "      <td>58.22</td>\n",
       "      <td>8</td>\n",
       "      <td>23.2880</td>\n",
       "      <td>489.0480</td>\n",
       "      <td>1/27/2019</td>\n",
       "      <td>20:33</td>\n",
       "      <td>Ewallet</td>\n",
       "      <td>465.76</td>\n",
       "      <td>4.761905</td>\n",
       "      <td>23.2880</td>\n",
       "      <td>8.4</td>\n",
       "    </tr>\n",
       "    <tr>\n",
       "      <th>4</th>\n",
       "      <td>373-73-7910</td>\n",
       "      <td>A</td>\n",
       "      <td>Yangon</td>\n",
       "      <td>Normal</td>\n",
       "      <td>Male</td>\n",
       "      <td>Sports and travel</td>\n",
       "      <td>86.31</td>\n",
       "      <td>7</td>\n",
       "      <td>30.2085</td>\n",
       "      <td>634.3785</td>\n",
       "      <td>2/8/2019</td>\n",
       "      <td>10:37</td>\n",
       "      <td>Ewallet</td>\n",
       "      <td>604.17</td>\n",
       "      <td>4.761905</td>\n",
       "      <td>30.2085</td>\n",
       "      <td>5.3</td>\n",
       "    </tr>\n",
       "  </tbody>\n",
       "</table>\n",
       "</div>"
      ],
      "text/plain": [
       "    Invoice ID Branch       City Customer type  Gender  \\\n",
       "0  750-67-8428      A     Yangon        Member  Female   \n",
       "1  226-31-3081      C  Naypyitaw        Normal  Female   \n",
       "2  631-41-3108      A     Yangon        Normal    Male   \n",
       "3  123-19-1176      A     Yangon        Member    Male   \n",
       "4  373-73-7910      A     Yangon        Normal    Male   \n",
       "\n",
       "             Product line  Unit price  Quantity   Tax 5%     Total       Date  \\\n",
       "0       Health and beauty       74.69         7  26.1415  548.9715   1/5/2019   \n",
       "1  Electronic accessories       15.28         5   3.8200   80.2200   3/8/2019   \n",
       "2      Home and lifestyle       46.33         7  16.2155  340.5255   3/3/2019   \n",
       "3       Health and beauty       58.22         8  23.2880  489.0480  1/27/2019   \n",
       "4       Sports and travel       86.31         7  30.2085  634.3785   2/8/2019   \n",
       "\n",
       "    Time      Payment    cogs  gross margin percentage  gross income  Rating  \n",
       "0  13:08      Ewallet  522.83                 4.761905       26.1415     9.1  \n",
       "1  10:29         Cash   76.40                 4.761905        3.8200     9.6  \n",
       "2  13:23  Credit card  324.31                 4.761905       16.2155     7.4  \n",
       "3  20:33      Ewallet  465.76                 4.761905       23.2880     8.4  \n",
       "4  10:37      Ewallet  604.17                 4.761905       30.2085     5.3  "
      ]
     },
     "execution_count": 4,
     "metadata": {},
     "output_type": "execute_result"
    }
   ],
   "source": [
    "df.head()"
   ]
  },
  {
   "cell_type": "code",
   "execution_count": 5,
   "id": "e8e57e85",
   "metadata": {},
   "outputs": [
    {
     "data": {
      "text/html": [
       "<div>\n",
       "<style scoped>\n",
       "    .dataframe tbody tr th:only-of-type {\n",
       "        vertical-align: middle;\n",
       "    }\n",
       "\n",
       "    .dataframe tbody tr th {\n",
       "        vertical-align: top;\n",
       "    }\n",
       "\n",
       "    .dataframe thead th {\n",
       "        text-align: right;\n",
       "    }\n",
       "</style>\n",
       "<table border=\"1\" class=\"dataframe\">\n",
       "  <thead>\n",
       "    <tr style=\"text-align: right;\">\n",
       "      <th></th>\n",
       "      <th>Invoice ID</th>\n",
       "      <th>Branch</th>\n",
       "      <th>City</th>\n",
       "      <th>Customer type</th>\n",
       "      <th>Gender</th>\n",
       "      <th>Product line</th>\n",
       "      <th>Unit price</th>\n",
       "      <th>Quantity</th>\n",
       "      <th>Tax 5%</th>\n",
       "      <th>Total</th>\n",
       "      <th>Date</th>\n",
       "      <th>Time</th>\n",
       "      <th>Payment</th>\n",
       "      <th>cogs</th>\n",
       "      <th>gross margin percentage</th>\n",
       "      <th>gross income</th>\n",
       "      <th>Rating</th>\n",
       "    </tr>\n",
       "  </thead>\n",
       "  <tbody>\n",
       "    <tr>\n",
       "      <th>995</th>\n",
       "      <td>233-67-5758</td>\n",
       "      <td>C</td>\n",
       "      <td>Naypyitaw</td>\n",
       "      <td>Normal</td>\n",
       "      <td>Male</td>\n",
       "      <td>Health and beauty</td>\n",
       "      <td>40.35</td>\n",
       "      <td>1</td>\n",
       "      <td>2.0175</td>\n",
       "      <td>42.3675</td>\n",
       "      <td>1/29/2019</td>\n",
       "      <td>13:46</td>\n",
       "      <td>Ewallet</td>\n",
       "      <td>40.35</td>\n",
       "      <td>4.761905</td>\n",
       "      <td>2.0175</td>\n",
       "      <td>6.2</td>\n",
       "    </tr>\n",
       "    <tr>\n",
       "      <th>996</th>\n",
       "      <td>303-96-2227</td>\n",
       "      <td>B</td>\n",
       "      <td>Mandalay</td>\n",
       "      <td>Normal</td>\n",
       "      <td>Female</td>\n",
       "      <td>Home and lifestyle</td>\n",
       "      <td>97.38</td>\n",
       "      <td>10</td>\n",
       "      <td>48.6900</td>\n",
       "      <td>1022.4900</td>\n",
       "      <td>3/2/2019</td>\n",
       "      <td>17:16</td>\n",
       "      <td>Ewallet</td>\n",
       "      <td>973.80</td>\n",
       "      <td>4.761905</td>\n",
       "      <td>48.6900</td>\n",
       "      <td>4.4</td>\n",
       "    </tr>\n",
       "    <tr>\n",
       "      <th>997</th>\n",
       "      <td>727-02-1313</td>\n",
       "      <td>A</td>\n",
       "      <td>Yangon</td>\n",
       "      <td>Member</td>\n",
       "      <td>Male</td>\n",
       "      <td>Food and beverages</td>\n",
       "      <td>31.84</td>\n",
       "      <td>1</td>\n",
       "      <td>1.5920</td>\n",
       "      <td>33.4320</td>\n",
       "      <td>2/9/2019</td>\n",
       "      <td>13:22</td>\n",
       "      <td>Cash</td>\n",
       "      <td>31.84</td>\n",
       "      <td>4.761905</td>\n",
       "      <td>1.5920</td>\n",
       "      <td>7.7</td>\n",
       "    </tr>\n",
       "    <tr>\n",
       "      <th>998</th>\n",
       "      <td>347-56-2442</td>\n",
       "      <td>A</td>\n",
       "      <td>Yangon</td>\n",
       "      <td>Normal</td>\n",
       "      <td>Male</td>\n",
       "      <td>Home and lifestyle</td>\n",
       "      <td>65.82</td>\n",
       "      <td>1</td>\n",
       "      <td>3.2910</td>\n",
       "      <td>69.1110</td>\n",
       "      <td>2/22/2019</td>\n",
       "      <td>15:33</td>\n",
       "      <td>Cash</td>\n",
       "      <td>65.82</td>\n",
       "      <td>4.761905</td>\n",
       "      <td>3.2910</td>\n",
       "      <td>4.1</td>\n",
       "    </tr>\n",
       "    <tr>\n",
       "      <th>999</th>\n",
       "      <td>849-09-3807</td>\n",
       "      <td>A</td>\n",
       "      <td>Yangon</td>\n",
       "      <td>Member</td>\n",
       "      <td>Female</td>\n",
       "      <td>Fashion accessories</td>\n",
       "      <td>88.34</td>\n",
       "      <td>7</td>\n",
       "      <td>30.9190</td>\n",
       "      <td>649.2990</td>\n",
       "      <td>2/18/2019</td>\n",
       "      <td>13:28</td>\n",
       "      <td>Cash</td>\n",
       "      <td>618.38</td>\n",
       "      <td>4.761905</td>\n",
       "      <td>30.9190</td>\n",
       "      <td>6.6</td>\n",
       "    </tr>\n",
       "  </tbody>\n",
       "</table>\n",
       "</div>"
      ],
      "text/plain": [
       "      Invoice ID Branch       City Customer type  Gender         Product line  \\\n",
       "995  233-67-5758      C  Naypyitaw        Normal    Male    Health and beauty   \n",
       "996  303-96-2227      B   Mandalay        Normal  Female   Home and lifestyle   \n",
       "997  727-02-1313      A     Yangon        Member    Male   Food and beverages   \n",
       "998  347-56-2442      A     Yangon        Normal    Male   Home and lifestyle   \n",
       "999  849-09-3807      A     Yangon        Member  Female  Fashion accessories   \n",
       "\n",
       "     Unit price  Quantity   Tax 5%      Total       Date   Time  Payment  \\\n",
       "995       40.35         1   2.0175    42.3675  1/29/2019  13:46  Ewallet   \n",
       "996       97.38        10  48.6900  1022.4900   3/2/2019  17:16  Ewallet   \n",
       "997       31.84         1   1.5920    33.4320   2/9/2019  13:22     Cash   \n",
       "998       65.82         1   3.2910    69.1110  2/22/2019  15:33     Cash   \n",
       "999       88.34         7  30.9190   649.2990  2/18/2019  13:28     Cash   \n",
       "\n",
       "       cogs  gross margin percentage  gross income  Rating  \n",
       "995   40.35                 4.761905        2.0175     6.2  \n",
       "996  973.80                 4.761905       48.6900     4.4  \n",
       "997   31.84                 4.761905        1.5920     7.7  \n",
       "998   65.82                 4.761905        3.2910     4.1  \n",
       "999  618.38                 4.761905       30.9190     6.6  "
      ]
     },
     "execution_count": 5,
     "metadata": {},
     "output_type": "execute_result"
    }
   ],
   "source": [
    "df.tail()"
   ]
  },
  {
   "cell_type": "code",
   "execution_count": 6,
   "id": "a775213b",
   "metadata": {},
   "outputs": [
    {
     "data": {
      "text/plain": [
       "Invoice ID                  object\n",
       "Branch                      object\n",
       "City                        object\n",
       "Customer type               object\n",
       "Gender                      object\n",
       "Product line                object\n",
       "Unit price                 float64\n",
       "Quantity                     int64\n",
       "Tax 5%                     float64\n",
       "Total                      float64\n",
       "Date                        object\n",
       "Time                        object\n",
       "Payment                     object\n",
       "cogs                       float64\n",
       "gross margin percentage    float64\n",
       "gross income               float64\n",
       "Rating                     float64\n",
       "dtype: object"
      ]
     },
     "execution_count": 6,
     "metadata": {},
     "output_type": "execute_result"
    }
   ],
   "source": [
    "df.dtypes"
   ]
  },
  {
   "cell_type": "code",
   "execution_count": 7,
   "id": "c381a21f",
   "metadata": {},
   "outputs": [
    {
     "data": {
      "text/html": [
       "<div>\n",
       "<style scoped>\n",
       "    .dataframe tbody tr th:only-of-type {\n",
       "        vertical-align: middle;\n",
       "    }\n",
       "\n",
       "    .dataframe tbody tr th {\n",
       "        vertical-align: top;\n",
       "    }\n",
       "\n",
       "    .dataframe thead th {\n",
       "        text-align: right;\n",
       "    }\n",
       "</style>\n",
       "<table border=\"1\" class=\"dataframe\">\n",
       "  <thead>\n",
       "    <tr style=\"text-align: right;\">\n",
       "      <th></th>\n",
       "      <th>Unit price</th>\n",
       "      <th>Quantity</th>\n",
       "      <th>Tax 5%</th>\n",
       "      <th>Total</th>\n",
       "      <th>cogs</th>\n",
       "      <th>gross margin percentage</th>\n",
       "      <th>gross income</th>\n",
       "      <th>Rating</th>\n",
       "    </tr>\n",
       "  </thead>\n",
       "  <tbody>\n",
       "    <tr>\n",
       "      <th>count</th>\n",
       "      <td>1000.000000</td>\n",
       "      <td>1000.000000</td>\n",
       "      <td>1000.000000</td>\n",
       "      <td>1000.000000</td>\n",
       "      <td>1000.00000</td>\n",
       "      <td>1000.000000</td>\n",
       "      <td>1000.000000</td>\n",
       "      <td>1000.00000</td>\n",
       "    </tr>\n",
       "    <tr>\n",
       "      <th>mean</th>\n",
       "      <td>55.672130</td>\n",
       "      <td>5.510000</td>\n",
       "      <td>15.379369</td>\n",
       "      <td>322.966749</td>\n",
       "      <td>307.58738</td>\n",
       "      <td>4.761905</td>\n",
       "      <td>15.379369</td>\n",
       "      <td>6.97270</td>\n",
       "    </tr>\n",
       "    <tr>\n",
       "      <th>std</th>\n",
       "      <td>26.494628</td>\n",
       "      <td>2.923431</td>\n",
       "      <td>11.708825</td>\n",
       "      <td>245.885335</td>\n",
       "      <td>234.17651</td>\n",
       "      <td>0.000000</td>\n",
       "      <td>11.708825</td>\n",
       "      <td>1.71858</td>\n",
       "    </tr>\n",
       "    <tr>\n",
       "      <th>min</th>\n",
       "      <td>10.080000</td>\n",
       "      <td>1.000000</td>\n",
       "      <td>0.508500</td>\n",
       "      <td>10.678500</td>\n",
       "      <td>10.17000</td>\n",
       "      <td>4.761905</td>\n",
       "      <td>0.508500</td>\n",
       "      <td>4.00000</td>\n",
       "    </tr>\n",
       "    <tr>\n",
       "      <th>25%</th>\n",
       "      <td>32.875000</td>\n",
       "      <td>3.000000</td>\n",
       "      <td>5.924875</td>\n",
       "      <td>124.422375</td>\n",
       "      <td>118.49750</td>\n",
       "      <td>4.761905</td>\n",
       "      <td>5.924875</td>\n",
       "      <td>5.50000</td>\n",
       "    </tr>\n",
       "    <tr>\n",
       "      <th>50%</th>\n",
       "      <td>55.230000</td>\n",
       "      <td>5.000000</td>\n",
       "      <td>12.088000</td>\n",
       "      <td>253.848000</td>\n",
       "      <td>241.76000</td>\n",
       "      <td>4.761905</td>\n",
       "      <td>12.088000</td>\n",
       "      <td>7.00000</td>\n",
       "    </tr>\n",
       "    <tr>\n",
       "      <th>75%</th>\n",
       "      <td>77.935000</td>\n",
       "      <td>8.000000</td>\n",
       "      <td>22.445250</td>\n",
       "      <td>471.350250</td>\n",
       "      <td>448.90500</td>\n",
       "      <td>4.761905</td>\n",
       "      <td>22.445250</td>\n",
       "      <td>8.50000</td>\n",
       "    </tr>\n",
       "    <tr>\n",
       "      <th>max</th>\n",
       "      <td>99.960000</td>\n",
       "      <td>10.000000</td>\n",
       "      <td>49.650000</td>\n",
       "      <td>1042.650000</td>\n",
       "      <td>993.00000</td>\n",
       "      <td>4.761905</td>\n",
       "      <td>49.650000</td>\n",
       "      <td>10.00000</td>\n",
       "    </tr>\n",
       "  </tbody>\n",
       "</table>\n",
       "</div>"
      ],
      "text/plain": [
       "        Unit price     Quantity       Tax 5%        Total        cogs  \\\n",
       "count  1000.000000  1000.000000  1000.000000  1000.000000  1000.00000   \n",
       "mean     55.672130     5.510000    15.379369   322.966749   307.58738   \n",
       "std      26.494628     2.923431    11.708825   245.885335   234.17651   \n",
       "min      10.080000     1.000000     0.508500    10.678500    10.17000   \n",
       "25%      32.875000     3.000000     5.924875   124.422375   118.49750   \n",
       "50%      55.230000     5.000000    12.088000   253.848000   241.76000   \n",
       "75%      77.935000     8.000000    22.445250   471.350250   448.90500   \n",
       "max      99.960000    10.000000    49.650000  1042.650000   993.00000   \n",
       "\n",
       "       gross margin percentage  gross income      Rating  \n",
       "count              1000.000000   1000.000000  1000.00000  \n",
       "mean                  4.761905     15.379369     6.97270  \n",
       "std                   0.000000     11.708825     1.71858  \n",
       "min                   4.761905      0.508500     4.00000  \n",
       "25%                   4.761905      5.924875     5.50000  \n",
       "50%                   4.761905     12.088000     7.00000  \n",
       "75%                   4.761905     22.445250     8.50000  \n",
       "max                   4.761905     49.650000    10.00000  "
      ]
     },
     "execution_count": 7,
     "metadata": {},
     "output_type": "execute_result"
    }
   ],
   "source": [
    "df.describe()"
   ]
  },
  {
   "cell_type": "code",
   "execution_count": 8,
   "id": "d02fe6ec",
   "metadata": {},
   "outputs": [
    {
     "data": {
      "text/plain": [
       "Invoice ID                 0\n",
       "Branch                     0\n",
       "City                       0\n",
       "Customer type              0\n",
       "Gender                     0\n",
       "Product line               0\n",
       "Unit price                 0\n",
       "Quantity                   0\n",
       "Tax 5%                     0\n",
       "Total                      0\n",
       "Date                       0\n",
       "Time                       0\n",
       "Payment                    0\n",
       "cogs                       0\n",
       "gross margin percentage    0\n",
       "gross income               0\n",
       "Rating                     0\n",
       "dtype: int64"
      ]
     },
     "execution_count": 8,
     "metadata": {},
     "output_type": "execute_result"
    }
   ],
   "source": [
    "df.isnull().sum()"
   ]
  },
  {
   "cell_type": "markdown",
   "id": "ba736ae3",
   "metadata": {},
   "source": [
    "# 1.Quais são os produtos mais comprados por mulheres e por homens?\n"
   ]
  },
  {
   "cell_type": "code",
   "execution_count": 22,
   "id": "e3257e54",
   "metadata": {},
   "outputs": [],
   "source": [
    "df1 = df.groupby(['Gender', 'Product line'])['Quantity'].sum().reset_index()\n",
    "df_male = df1.loc[(df1['Gender'] == 'Male')]\n",
    "df_female = df1.loc[(df1['Gender'] == 'Female')]\n"
   ]
  },
  {
   "cell_type": "code",
   "execution_count": 42,
   "id": "a1e4aae2",
   "metadata": {},
   "outputs": [
    {
     "data": {
      "image/png": "[encoded data removed]",
      "text/plain": [
       "<Figure size 1500x500 with 1 Axes>"
      ]
     },
     "metadata": {},
     "output_type": "display_data"
    }
   ],
   "source": [
    "fig = plt.figure(figsize=(15,5))\n",
    "\n",
    "plt.plot(df_male['Product line'],\n",
    "         df_male['Quantity'], \n",
    "         color = 'steelblue',\n",
    "         linewidth = 5,\n",
    "         label = \"Homens\")\n",
    "\n",
    "plt.plot(df_female['Product line'],\n",
    "         df_female['Quantity'],\n",
    "         color = 'lightcoral',         \n",
    "         linewidth = 5,\n",
    "         label = \"Mulheres\")\n",
    "\n",
    "plt.scatter(df_male['Product line'],\n",
    "         df_male['Quantity'],\n",
    "         color = 'steelblue',\n",
    "         linewidth = 5)\n",
    "\n",
    "plt.scatter(df_female['Product line'],\n",
    "         df_female['Quantity'],\n",
    "         linewidth = 5,\n",
    "         color = 'lightcoral')         \n",
    "\n",
    "plt.xlabel(\"Tipo de Produto\")\n",
    "plt.ylabel(\"Quantidade\")\n",
    "plt.legend()\n",
    "plt.gca().spines['top'].set_visible(False)\n",
    "plt.gca().spines['right'].set_visible(False)\n",
    "plt.show(fig)"
   ]
  },
  {
   "cell_type": "markdown",
   "id": "97f6124a",
   "metadata": {},
   "source": [
    "Produtos mais comprados por mulheres:\n",
    "    \n",
    "    1.Acessórios Fashion -\t530\n",
    "    \n",
    "    2.Comidas e bebidas\t- 514  \n",
    "    \n",
    "    3.Domésticos e Estilo de Vida - 498\n",
    "    \n",
    "    4.Esportes e Viagens - 496\n",
    "    \n",
    "    5.Acessórios Eletrônicos - 488\n",
    "    \n",
    "    6.Saúde e Beleza - 343"
   ]
  },
  {
   "cell_type": "markdown",
   "id": "ca0e6c3d",
   "metadata": {},
   "source": [
    "Produtos mais comprados por homens:\n",
    "\n",
    "    1.Saúde e Beleza - 511\n",
    "\n",
    "    2.Acessórios Eletrônicos - 483\n",
    "    \n",
    "    3.Comidas e bebidas - 438  \n",
    "\n",
    "    4.Esportes e Viagens - 424\n",
    "\n",
    "    5. Domésticos e Estilo de Vida - 413\n",
    "\n",
    "    6.Acessórios Fashion - 372"
   ]
  },
  {
   "cell_type": "markdown",
   "id": "7a525599",
   "metadata": {},
   "source": [
    "Insights:\n",
    "    \n",
    "    -A maior parte das vendas do supermercado foram para mulheres.\n",
    "    \n",
    "    -Homens compram muito mais produtos de Saúde e Beleza do que as mulheres.\n",
    "    \n",
    "    -Mulheres compram muito mais Acessórios fashion do que os homens.\n",
    "    \n",
    "    -O tipo de produto mais procurado pelas mulheres são Acessórios fashion.\n",
    "    \n",
    "    -Enquanto o produto mais procurado pelos homens são produtos de Saúde e Beleza.\n",
    "    \n",
    "    -O tipo de produto mais procurado pelas mulheres, é o tipo de produto menos procurado pelos homens e vice-versa."
   ]
  },
  {
   "cell_type": "markdown",
   "id": "a4ab851d",
   "metadata": {},
   "source": [
    "# 2.Quais são os produtos mais vendidos?"
   ]
  },
  {
   "cell_type": "code",
   "execution_count": 44,
   "id": "be9c51d8",
   "metadata": {},
   "outputs": [],
   "source": [
    "df2 = df.groupby('Product line')['Quantity'].sum().reset_index()"
   ]
  },
  {
   "cell_type": "code",
   "execution_count": 61,
   "id": "774cbb1b",
   "metadata": {},
   "outputs": [
    {
     "data": {
      "image/png": "[encoded data removed]",
      "text/plain": [
       "<Figure size 1500x500 with 1 Axes>"
      ]
     },
     "metadata": {},
     "output_type": "display_data"
    }
   ],
   "source": [
    "fig = plt.figure(figsize=(15,5))\n",
    "\n",
    "cores = [ \n",
    "    \"steelblue\", \n",
    "    \"lightcoral\", \n",
    "    \"mediumseagreen\",\n",
    "    \"Goldenrod\",\n",
    "    \"Crimson\",\n",
    "    \"Slategray\"]\n",
    "\n",
    "plt.bar(df2['Product line'], df2['Quantity'], color = cores)\n",
    "plt.ylim(700, 1000)\n",
    "plt.ylabel(\"Quantidades vendidas\", fontsize = 12)\n",
    "plt.xlabel(\"Tipos de produtos\", fontsize = 12)\n",
    "plt.title(\"Produtos mais vendidos\", fontsize = 15)\n",
    "plt.gca().spines['top'].set_visible(False)\n",
    "plt.gca().spines['right'].set_visible(False)\n",
    "plt.show()"
   ]
  },
  {
   "cell_type": "markdown",
   "id": "60ceebca",
   "metadata": {},
   "source": [
    "Os produtos mais vendidos são:\n",
    "\n",
    "1.Acessórios Eletrônicos - 971\n",
    "\n",
    "2.Comidas e bebidas - 952\n",
    "\n",
    "3.Esportes e Viagens - 920\n",
    "\n",
    "4.Domésticos e Estilo de Vida - 911\n",
    "\n",
    "5.Acessórios Fashion - 902\n",
    "\n",
    "6.Saúde e Beleza - 854"
   ]
  },
  {
   "cell_type": "markdown",
   "id": "0ede4feb",
   "metadata": {},
   "source": [
    "Insights:\n",
    "    \n",
    "    -O tipo de produto menos vendido (Saúde e Beleza) é o tipo de produto mais procurado pelos homens.\n",
    "    "
   ]
  },
  {
   "cell_type": "markdown",
   "id": "13cececd",
   "metadata": {},
   "source": [
    "# 3.Qual é o perfil dos clientes mais frequentes?"
   ]
  },
  {
   "cell_type": "code",
   "execution_count": 49,
   "id": "7eb02fa3",
   "metadata": {},
   "outputs": [],
   "source": [
    "#Para responder essa pergunta, irei separar os clientes em 4 perfis(homens membros/homens normais/mulheres membros/mulheres normais)\n",
    "homem_membro = df[(df['Gender'] == 'Male') & (df['Customer type'] == 'Member')]\n",
    "homem_normal = df[(df['Gender'] == 'Male') & (df['Customer type'] == 'Normal')]\n",
    "mulher_membro = df[(df['Gender'] == 'Female') & (df['Customer type'] == 'Member')]\n",
    "mulher_normal = df[(df['Gender'] == 'Female') & (df['Customer type'] == 'Normal')]"
   ]
  },
  {
   "cell_type": "code",
   "execution_count": 50,
   "id": "dee390a2",
   "metadata": {},
   "outputs": [],
   "source": [
    "num_mulher_membro = len(mulher_membro)\n",
    "num_mulher_normal = len(mulher_normal)\n",
    "num_homem_membro = len(homem_membro)\n",
    "num_homem_normal = len(homem_normal)\n",
    "\n",
    "contagem = [num_mulher_membro, num_mulher_normal, num_homem_membro, num_homem_normal]\n",
    "nomes_index = ['Mulher Membro', 'Mulher Normal', 'Homem Membro', 'Homem Normal']\n",
    "nome_col = ['Quantidade']\n",
    "\n",
    "df_contagem = pd.DataFrame(contagem, index=nomes_index, columns=nome_col)\n",
    "df3 = df_contagem.sort_values(by='Quantidade', ascending=False)\n",
    "df3.reset_index(inplace=True)\n",
    "df3.rename(columns={'index':'Perfil'}, inplace = True)"
   ]
  },
  {
   "cell_type": "code",
   "execution_count": 58,
   "id": "213b0fa0",
   "metadata": {},
   "outputs": [
    {
     "name": "stderr",
     "output_type": "stream",
     "text": [
      "C:\\Users\\felip\\AppData\\Local\\Temp\\ipykernel_8452\\780062128.py:10: UserWarning: No artists with labels found to put in legend.  Note that artists whose label start with an underscore are ignored when legend() is called with no argument.\n",
      "  plt.legend()\n"
     ]
    },
    {
     "data": {
      "image/png": "[encoded data removed]",
      "text/plain": [
       "<Figure size 800x500 with 1 Axes>"
      ]
     },
     "metadata": {},
     "output_type": "display_data"
    }
   ],
   "source": [
    "fig = plt.figure(figsize=(8,5))\n",
    "\n",
    "cores = ['steelblue', 'lightcoral', 'mediumseagreen', 'orange']\n",
    "\n",
    "plt.bar(df3['Perfil'], df3['Quantidade'], width = 0.6, color=cores)\n",
    "\n",
    "plt.title('Perfis mais frequentes', fontsize =15)\n",
    "plt.xlabel('Perfil', fontsize=12)\n",
    "plt.ylabel('Frequência', fontsize=12)\n",
    "plt.legend()\n",
    "plt.gca().spines['top'].set_visible(False)\n",
    "plt.gca().spines['right'].set_visible(False)\n",
    "plt.show()"
   ]
  },
  {
   "cell_type": "markdown",
   "id": "513fd1cd",
   "metadata": {},
   "source": [
    "Os perfis mais frequentes são:\n",
    "\n",
    "1.Mulher Membro - 261\n",
    "\n",
    "2.Homem Normal - 259\n",
    "\n",
    "3.Mulher Normal - 240\n",
    "\n",
    "4.Homem Membro - 240"
   ]
  },
  {
   "cell_type": "markdown",
   "id": "fccbbc6c",
   "metadata": {},
   "source": [
    "Insights:\n",
    "    \n",
    "    -O número de clientes homens e mulheres são quase iguais. Logo, quando as mulheres vão comprar, elas compram em maior quantidade, visto que a grande maioria das vendas do supermercado foram para mulheres.\n",
    "    \n",
    "    -A maioria das mulheres que compram, são membros. Enquanto, a maioria dos homens são consumidores normais.\n",
    "    \n",
    "    -Creio que uma das razões pela que as mulheres compram em maior quantidade, sejam os benefícios de serem membros do     supermercado."
   ]
  },
  {
   "cell_type": "markdown",
   "id": "e8c03ec2",
   "metadata": {},
   "source": [
    "# 4.Qual é o desempenho de vendas por filial e cidade?"
   ]
  },
  {
   "cell_type": "code",
   "execution_count": 77,
   "id": "6a12c792",
   "metadata": {},
   "outputs": [
    {
     "name": "stderr",
     "output_type": "stream",
     "text": [
      "C:\\Users\\felip\\AppData\\Local\\Temp\\ipykernel_8452\\181193672.py:7: FutureWarning: A value is trying to be set on a copy of a DataFrame or Series through chained assignment using an inplace method.\n",
      "The behavior will change in pandas 3.0. This inplace method will never work because the intermediate object on which we are setting values always behaves as a copy.\n",
      "\n",
      "For example, when doing 'df[col].method(value, inplace=True)', try using 'df.method({col: value}, inplace=True)' or df[col] = df[col].method(value) instead, to perform the operation inplace on the original object.\n",
      "\n",
      "\n",
      "  df4['Branch'].replace({'A': \"Yangon\", \"B\": \"Mandalay\", \"C\": \"Naypyitaw\"}, inplace=True)\n"
     ]
    },
    {
     "data": {
      "text/html": [
       "<div>\n",
       "<style scoped>\n",
       "    .dataframe tbody tr th:only-of-type {\n",
       "        vertical-align: middle;\n",
       "    }\n",
       "\n",
       "    .dataframe tbody tr th {\n",
       "        vertical-align: top;\n",
       "    }\n",
       "\n",
       "    .dataframe thead th {\n",
       "        text-align: right;\n",
       "    }\n",
       "</style>\n",
       "<table border=\"1\" class=\"dataframe\">\n",
       "  <thead>\n",
       "    <tr style=\"text-align: right;\">\n",
       "      <th></th>\n",
       "      <th>Branch</th>\n",
       "      <th>Quantity</th>\n",
       "    </tr>\n",
       "  </thead>\n",
       "  <tbody>\n",
       "    <tr>\n",
       "      <th>0</th>\n",
       "      <td>Yangon</td>\n",
       "      <td>1859</td>\n",
       "    </tr>\n",
       "    <tr>\n",
       "      <th>1</th>\n",
       "      <td>Mandalay</td>\n",
       "      <td>1820</td>\n",
       "    </tr>\n",
       "    <tr>\n",
       "      <th>2</th>\n",
       "      <td>Naypyitaw</td>\n",
       "      <td>1831</td>\n",
       "    </tr>\n",
       "  </tbody>\n",
       "</table>\n",
       "</div>"
      ],
      "text/plain": [
       "      Branch  Quantity\n",
       "0     Yangon      1859\n",
       "1   Mandalay      1820\n",
       "2  Naypyitaw      1831"
      ]
     },
     "execution_count": 77,
     "metadata": {},
     "output_type": "execute_result"
    }
   ],
   "source": [
    "#Analisando o Datframe, percebemos que cada filial pertence a uma cidade:\n",
    "#filial A- Yangon\n",
    "#filial B- Mandalay\n",
    "#filial C- Naypyitaw\n",
    "\n",
    "df4 = df.groupby('Branch')['Quantity'].sum().reset_index()\n",
    "df4['Branch'].replace({'A': \"Yangon\", \"B\": \"Mandalay\", \"C\": \"Naypyitaw\"}, inplace=True)\n",
    "df4"
   ]
  },
  {
   "cell_type": "code",
   "execution_count": 78,
   "id": "c4786b35",
   "metadata": {},
   "outputs": [
    {
     "name": "stderr",
     "output_type": "stream",
     "text": [
      "C:\\Users\\felip\\AppData\\Local\\Temp\\ipykernel_8452\\152251528.py:10: UserWarning: No artists with labels found to put in legend.  Note that artists whose label start with an underscore are ignored when legend() is called with no argument.\n",
      "  plt.legend()\n"
     ]
    },
    {
     "data": {
      "image/png": "[encoded data removed]",
      "text/plain": [
       "<Figure size 700x500 with 1 Axes>"
      ]
     },
     "metadata": {},
     "output_type": "display_data"
    }
   ],
   "source": [
    "fig = plt.figure(figsize=(7,5))\n",
    "\n",
    "fig.add_subplot()\n",
    "plt.bar(df4['Branch'], df4['Quantity'], width = 0.6, color='Royalblue')\n",
    "plt.ylim(1600,1900)\n",
    "\n",
    "plt.xlabel(\"Filial\")\n",
    "plt.ylabel(\"Quantidade\")\n",
    "plt.title(\"Desempenho de vendas por filial\")\n",
    "plt.legend()\n",
    "plt.gca().spines['top'].set_visible(False)\n",
    "plt.gca().spines['right'].set_visible(False)\n",
    "plt.show(fig)"
   ]
  },
  {
   "cell_type": "markdown",
   "id": "4cfd1923",
   "metadata": {},
   "source": [
    "Desempenho por filial:\n",
    "\n",
    "1.Filial A(Yangon) - 1859\n",
    "\n",
    "2.Filial C(Naypyitaw) - 1831\n",
    "\n",
    "3.Filial B(Mandalay) - 1820\n",
    "\n"
   ]
  },
  {
   "cell_type": "markdown",
   "id": "4dcb3f06",
   "metadata": {},
   "source": [
    "Insights:\n",
    "    \n",
    "    -As três filiais têm um desempenhos nas vendas muito semelhante."
   ]
  },
  {
   "cell_type": "markdown",
   "id": "d95ea386",
   "metadata": {},
   "source": [
    "# 5.Qual é o horário de pico das vendas? "
   ]
  },
  {
   "cell_type": "code",
   "execution_count": 95,
   "id": "e3d5e2a9",
   "metadata": {},
   "outputs": [
    {
     "data": {
      "text/html": [
       "<div>\n",
       "<style scoped>\n",
       "    .dataframe tbody tr th:only-of-type {\n",
       "        vertical-align: middle;\n",
       "    }\n",
       "\n",
       "    .dataframe tbody tr th {\n",
       "        vertical-align: top;\n",
       "    }\n",
       "\n",
       "    .dataframe thead th {\n",
       "        text-align: right;\n",
       "    }\n",
       "</style>\n",
       "<table border=\"1\" class=\"dataframe\">\n",
       "  <thead>\n",
       "    <tr style=\"text-align: right;\">\n",
       "      <th></th>\n",
       "      <th>Horario</th>\n",
       "      <th>Quantidade</th>\n",
       "    </tr>\n",
       "  </thead>\n",
       "  <tbody>\n",
       "    <tr>\n",
       "      <th>0</th>\n",
       "      <td>10</td>\n",
       "      <td>101</td>\n",
       "    </tr>\n",
       "    <tr>\n",
       "      <th>1</th>\n",
       "      <td>11</td>\n",
       "      <td>90</td>\n",
       "    </tr>\n",
       "    <tr>\n",
       "      <th>2</th>\n",
       "      <td>12</td>\n",
       "      <td>89</td>\n",
       "    </tr>\n",
       "    <tr>\n",
       "      <th>3</th>\n",
       "      <td>13</td>\n",
       "      <td>103</td>\n",
       "    </tr>\n",
       "    <tr>\n",
       "      <th>4</th>\n",
       "      <td>14</td>\n",
       "      <td>83</td>\n",
       "    </tr>\n",
       "    <tr>\n",
       "      <th>5</th>\n",
       "      <td>15</td>\n",
       "      <td>102</td>\n",
       "    </tr>\n",
       "    <tr>\n",
       "      <th>6</th>\n",
       "      <td>16</td>\n",
       "      <td>77</td>\n",
       "    </tr>\n",
       "    <tr>\n",
       "      <th>7</th>\n",
       "      <td>17</td>\n",
       "      <td>74</td>\n",
       "    </tr>\n",
       "    <tr>\n",
       "      <th>8</th>\n",
       "      <td>18</td>\n",
       "      <td>93</td>\n",
       "    </tr>\n",
       "    <tr>\n",
       "      <th>9</th>\n",
       "      <td>19</td>\n",
       "      <td>113</td>\n",
       "    </tr>\n",
       "    <tr>\n",
       "      <th>10</th>\n",
       "      <td>20</td>\n",
       "      <td>75</td>\n",
       "    </tr>\n",
       "  </tbody>\n",
       "</table>\n",
       "</div>"
      ],
      "text/plain": [
       "   Horario  Quantidade\n",
       "0       10         101\n",
       "1       11          90\n",
       "2       12          89\n",
       "3       13         103\n",
       "4       14          83\n",
       "5       15         102\n",
       "6       16          77\n",
       "7       17          74\n",
       "8       18          93\n",
       "9       19         113\n",
       "10      20          75"
      ]
     },
     "execution_count": 95,
     "metadata": {},
     "output_type": "execute_result"
    }
   ],
   "source": [
    "df['Horas'] = df['Time'].str.split(':').str[0]\n",
    "contagem_hora = df['Horas'].value_counts().sort_index()\n",
    "df5 = contagem_hora.reset_index().rename(columns={'Horas':'Horario', 'count': 'Quantidade'})\n",
    "df5"
   ]
  },
  {
   "cell_type": "code",
   "execution_count": 104,
   "id": "319429de",
   "metadata": {},
   "outputs": [
    {
     "data": {
      "image/png": "[encoded data removed]",
      "text/plain": [
       "<Figure size 1000x600 with 1 Axes>"
      ]
     },
     "metadata": {},
     "output_type": "display_data"
    }
   ],
   "source": [
    "fig = plt.figure(figsize=(10,6))\n",
    "\n",
    "plt.bar(df5['Horario'], df5['Quantidade'], width = 0.8, color='sandybrown')\n",
    "plt.xlabel('Horário')\n",
    "plt.ylabel('Quantidade')\n",
    "plt.title('Horários de Pico')\n",
    "plt.gca().spines['top'].set_visible(False)\n",
    "plt.gca().spines['right'].set_visible(False)\n",
    "plt.show()"
   ]
  },
  {
   "cell_type": "markdown",
   "id": "bb5ea2af",
   "metadata": {},
   "source": [
    "Insights:\n",
    "    \n",
    "    -O horário de pico do supermercado é às 19:00, uma hora antes dele fechar.\n",
    "    \n",
    "    -Os horários que chegam perto do pico são às 13:00 e às 15:00. Porém às 14:00, o número de vendas cai bastante."
   ]
  },
  {
   "cell_type": "markdown",
   "id": "5cdd03ff",
   "metadata": {},
   "source": [
    "# 6.Como as vendas variam ao longo do tempo?"
   ]
  },
  {
   "cell_type": "code",
   "execution_count": 105,
   "id": "338dde95",
   "metadata": {},
   "outputs": [],
   "source": [
    "df['Mes'] = df['Date'].str.split('/').str[0].sort_values()\n",
    "mes_quantidade = df.groupby('Mes')['Quantity'].sum()\n",
    "df6 = mes_quantidade.reset_index()\n",
    "\n",
    "mes_rename = {'1': 'Janeiro', '2': 'Fevereiro', '3':'Março'}\n",
    "\n",
    "df6['Mes'] = df6['Mes'].map(mes_rename)"
   ]
  },
  {
   "cell_type": "code",
   "execution_count": 109,
   "id": "fe8b3002",
   "metadata": {},
   "outputs": [
    {
     "name": "stderr",
     "output_type": "stream",
     "text": [
      "C:\\Users\\felip\\AppData\\Local\\Temp\\ipykernel_8452\\4102045039.py:7: UserWarning: No artists with labels found to put in legend.  Note that artists whose label start with an underscore are ignored when legend() is called with no argument.\n",
      "  plt.legend()\n"
     ]
    },
    {
     "data": {
      "image/png": "[encoded data removed]",
      "text/plain": [
       "<Figure size 700x500 with 1 Axes>"
      ]
     },
     "metadata": {},
     "output_type": "display_data"
    }
   ],
   "source": [
    "fig = plt.figure(figsize=(7,5))\n",
    "\n",
    "plt.bar(df6['Mes'], df6['Quantity'], width = 0.7, color='Mediumslateblue')\n",
    "plt.ylim(1000,2000)\n",
    "\n",
    "plt.title(\"Vendas ao longo do tempo\")\n",
    "plt.legend()\n",
    "plt.gca().spines['top'].set_visible(False)\n",
    "plt.gca().spines['right'].set_visible(False)\n",
    "plt.show()"
   ]
  },
  {
   "cell_type": "markdown",
   "id": "f1a471b1",
   "metadata": {},
   "source": [
    "Vendas em cada mês:\n",
    "\n",
    "    Janeiro-1965\n",
    "\n",
    "    Fevereiro-1654\n",
    "\n",
    "    Março-1891"
   ]
  },
  {
   "cell_type": "markdown",
   "id": "563292f0",
   "metadata": {},
   "source": [
    "Insights:\n",
    "    \n",
    "    -O mês com maior número de vendas foi Janeiro.\n",
    "    \n",
    "    -Em Fevereiro elas caíram bastante.\n",
    "    \n",
    "    -Porém, as vendas voltaram a subir em Março."
   ]
  },
  {
   "cell_type": "markdown",
   "id": "86752fe8",
   "metadata": {},
   "source": [
    "# 7.Quais métodos de pagamento são mais populares?"
   ]
  },
  {
   "cell_type": "code",
   "execution_count": 119,
   "id": "70333cde",
   "metadata": {},
   "outputs": [],
   "source": [
    "forma_pagamento = df['Payment'].value_counts()\n",
    "df7 = forma_pagamento.reset_index().rename(columns={'Payment': 'Metodo', 'count':'Frequencia'})\n",
    "\n",
    "pagamento_rename = {'Ewallet':'Carteira Eletrônica', 'Cash': 'Dinheiro', 'Credit card': 'Cartão de crédito'}\n",
    "\n",
    "df7['Metodo'] = df7['Metodo'].map(pagamento_rename)"
   ]
  },
  {
   "cell_type": "code",
   "execution_count": 121,
   "id": "158f649b",
   "metadata": {},
   "outputs": [
    {
     "name": "stderr",
     "output_type": "stream",
     "text": [
      "C:\\Users\\felip\\AppData\\Local\\Temp\\ipykernel_8452\\3780442274.py:9: UserWarning: No artists with labels found to put in legend.  Note that artists whose label start with an underscore are ignored when legend() is called with no argument.\n",
      "  plt.legend()\n"
     ]
    },
    {
     "data": {
      "image/png": "[encoded data removed]",
      "text/plain": [
       "<Figure size 700x500 with 1 Axes>"
      ]
     },
     "metadata": {},
     "output_type": "display_data"
    }
   ],
   "source": [
    "fig = plt.figure(figsize=(7,5))\n",
    "\n",
    "plt.bar(df7['Metodo'], df7['Frequencia'], width = 0.4, color='seagreen')\n",
    "\n",
    "plt.title(\"Métodos de Pagamentos mais utilizados\", fontsize=15)\n",
    "plt.xlabel('Método de Pagamento', fontsize=12)\n",
    "plt.ylabel('Frequência', fontsize=12)\n",
    "plt.ylim(100,400)\n",
    "plt.legend()\n",
    "plt.gca().spines['top'].set_visible(False)\n",
    "plt.gca().spines['right'].set_visible(False)\n",
    "plt.show()"
   ]
  },
  {
   "cell_type": "markdown",
   "id": "75ad7218",
   "metadata": {},
   "source": [
    "Métodos de Pagamentos mais populares:\n",
    "\n",
    "1.Carteira Eletrônica - 345\n",
    "\n",
    "2.Dinheiro - 344\n",
    "\n",
    "3.Cartão de crédito - 311"
   ]
  },
  {
   "cell_type": "markdown",
   "id": "1e1f212b",
   "metadata": {},
   "source": [
    "Insights:\n",
    "    \n",
    "    -As vendas concretizadas por carteiras eletrônicas são quase iguais as feitas por dinheiro.\n",
    "    \n",
    "    -As compras feitas por cartão de crédito estão em menor quantidade comparada às outras."
   ]
  },
  {
   "cell_type": "markdown",
   "id": "6a71daac",
   "metadata": {},
   "source": [
    "# 8.Como o tipo de cliente afeta a receita média por venda?"
   ]
  },
  {
   "cell_type": "code",
   "execution_count": 126,
   "id": "f4ea5961",
   "metadata": {},
   "outputs": [
    {
     "name": "stderr",
     "output_type": "stream",
     "text": [
      "C:\\Users\\felip\\AppData\\Local\\Temp\\ipykernel_8452\\3138539846.py:4: SettingWithCopyWarning: \n",
      "A value is trying to be set on a copy of a slice from a DataFrame.\n",
      "Try using .loc[row_indexer,col_indexer] = value instead\n",
      "\n",
      "See the caveats in the documentation: https://pandas.pydata.org/pandas-docs/stable/user_guide/indexing.html#returning-a-view-versus-a-copy\n",
      "  df_normal['Receita Média Normal'] = df_normal['Total'].sum() / df_normal['Quantity'].sum()\n",
      "C:\\Users\\felip\\AppData\\Local\\Temp\\ipykernel_8452\\3138539846.py:5: SettingWithCopyWarning: \n",
      "A value is trying to be set on a copy of a slice from a DataFrame.\n",
      "Try using .loc[row_indexer,col_indexer] = value instead\n",
      "\n",
      "See the caveats in the documentation: https://pandas.pydata.org/pandas-docs/stable/user_guide/indexing.html#returning-a-view-versus-a-copy\n",
      "  df_membro['Receita Média Membro'] = df_membro['Total'].sum() / df_membro['Quantity'].sum()\n"
     ]
    }
   ],
   "source": [
    "df_membro = df.loc[(df['Customer type'] == 'Member')]\n",
    "df_normal = df.loc[(df['Customer type'] == 'Normal')]\n",
    "\n",
    "df_normal['Receita Média Normal'] = df_normal['Total'].sum() / df_normal['Quantity'].sum()\n",
    "df_membro['Receita Média Membro'] = df_membro['Total'].sum() / df_membro['Quantity'].sum()"
   ]
  },
  {
   "cell_type": "code",
   "execution_count": null,
   "id": "cc8bb7b2",
   "metadata": {},
   "outputs": [
    {
     "data": {
      "image/png": "[encoded data removed]",
      "text/plain": [
       "<Figure size 600x500 with 1 Axes>"
      ]
     },
     "metadata": {},
     "output_type": "display_data"
    }
   ],
   "source": [
    "fig = plt.figure(figsize=(6,5))\n",
    "\n",
    "fig.add_subplot()\n",
    "plt.bar(df_normal['Customer type'],\n",
    "         df_normal['Receita Média Normal'], \n",
    "         label = \"Clientes Normal\", \n",
    "         color = 'steelblue',\n",
    "         width = 0.7)\n",
    "\n",
    "plt.bar(df_membro['Customer type'],\n",
    "        df_membro['Receita Média Membro'], \n",
    "        color = 'lightcoral',\n",
    "        label = \"Clientes Membro\", \n",
    "        width = 0.7)     \n",
    "\n",
    "plt.xlabel(\"Tipo de Cliente\")\n",
    "plt.ylabel(\"Receita Média\")\n",
    "plt.show(fig)"
   ]
  },
  {
   "cell_type": "markdown",
   "id": "67385fc8",
   "metadata": {},
   "source": [
    "Insights:\n",
    "    \n",
    "    -Não há uma diferença significativa entre a receita média por venda dos dois tipos de cliente."
   ]
  }
 ],
 "metadata": {
  "kernelspec": {
   "display_name": "another_env_name",
   "language": "python",
   "name": "python3"
  },
  "language_info": {
   "codemirror_mode": {
    "name": "ipython",
    "version": 3
   },
   "file_extension": ".py",
   "mimetype": "text/x-python",
   "name": "python",
   "nbconvert_exporter": "python",
   "pygments_lexer": "ipython3",
   "version": "3.12.4"
  }
 },
 "nbformat": 4,
 "nbformat_minor": 5
}
